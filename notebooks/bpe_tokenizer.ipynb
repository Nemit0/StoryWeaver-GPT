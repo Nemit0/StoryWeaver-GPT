{
 "cells": [
  {
   "cell_type": "code",
   "execution_count": 1,
   "metadata": {},
   "outputs": [],
   "source": [
    "import os\n",
    "from tqdm import tqdm\n",
    "from concurrent.futures import ThreadPoolExecutor\n",
    "from collections import defaultdict"
   ]
  },
  {
   "cell_type": "code",
   "execution_count": 2,
   "metadata": {},
   "outputs": [
    {
     "name": "stdout",
     "output_type": "stream",
     "text": [
      "Size of data:50398417\n",
      "Data:The wet marble floor pressed on his cheek like a thousand hands slapping his face frozen in time . S\n"
     ]
    }
   ],
   "source": [
    "# Read the data\n",
    "with open('test.wp_target', 'r') as file:\n",
    "    data = file.read()\n",
    "\n",
    "print(f\"Size of data:{len(data)}\")\n",
    "print(f\"Data:{data[:100]}\")"
   ]
  },
  {
   "cell_type": "code",
   "execution_count": 3,
   "metadata": {},
   "outputs": [
    {
     "name": "stdout",
     "output_type": "stream",
     "text": [
      "size of data_list:15139\n"
     ]
    }
   ],
   "source": [
    "data_list = data.split(\"\\n\")\n",
    "print(f\"size of data_list:{len(data_list)}\")"
   ]
  },
  {
   "cell_type": "code",
   "execution_count": 4,
   "metadata": {},
   "outputs": [
    {
     "name": "stdout",
     "output_type": "stream",
     "text": [
      "</BOT>The wet marble floor pressed on his cheek like a thousand hands slapping his face frozen in time . Smattering piss of rain ignored his indignant mumblings . His eyes fluttered . Pins and needs ran from finger to shoulder as he pushed back against the floor , contorting his aching body into a cross legged position . Last night was bad . He gathered that . His routine dullness of though crept inwards from the edges of his mind toward the black mist that veiled his most recent memories . He struggled to recall whatever he could n't recall but only for a moment before he decided it probably was n't worth the effort . \n",
      " He glanced around the room for a few minutes before concluding that he probably did n't know where he was . His investigation was n't entirely fruitless , he discovered a mostly full bottle of vodka . It was cheap but would definitely get the job done . Taking a few swigs made it childishly easy to ignore that gigantic black cloud of fog blotting out whatever the hell he did before he woke up . \n",
      " There was a mirror in the room and for want of anything more interesting to study he gazed at himself . It was a game he 'd play with himself , glancing at the mirror and seeing if he could recognize the person looking back . If he did n't know better he 'd have guessed he was a very successful mattress salesman , or perhaps a bum who had managed to score some luck gambling . \n",
      " His face was portly and unshaven , in that limbo place where it had been too many days without being clean and too few days to become a beard . His stomach was round but firm , like a basketball stuffed under a shirt and then semi deflated . The hair was long and unruly , receding far into the past . But his eyes were the giveaway . Looking closely enough at them he could still see an intensity . It was n't the sharp kind he carried in his youth but rather like a rusted dagger . Still sharp enough to cut . \n",
      " `` DiCaprio . '' The curse rasped out of him in a choke . After all these years spent working on the hallmark channel and tv series based on mediocre movies he was still there . Despite his best efforts to bury himself under all of the alchol and drugs he was still in there . He thought for sure after the bankruptcy he 'd be done , but no that god damned rerelease of Titanic the royalties started pouring in and he could n't get rid of the money . Not even the live action version of the nut job could destroy him . \n",
      " Cursing he hurled the bottle at the mirror but his wet hands slipped and instead of a shattering crash there was only a thud as the bottle bounced off the dry wall and rolled on the floor . \n",
      " His rage thwarted by his impotence he slumped against the floor and finally noticed why there was rain coming into this room . \n",
      " \n",
      " The window was smashed . He looked at the bottle , confused . No , he had n't done that . At least not with the vodka . He looked back at the glass etched around the window sill and his eyes hung on the red that stained the jagged teeth . \n",
      " \n",
      " The headache crept back towards the front of his mind while the bloody glass pinned his eyes in place . What the fuck happened last night ?<EOT>\n"
     ]
    }
   ],
   "source": [
    "# Convert <newline> to \\n\n",
    "data_list = [x.replace(\"<newline>\", \"\\n\") for x in data_list]\n",
    "# Append </BOT> and <EOT> to all the lines\n",
    "data_list = [\"</BOT>\" + x + \"<EOT>\" for x in data_list]\n",
    "print(data_list[0])"
   ]
  },
  {
   "cell_type": "code",
   "execution_count": 5,
   "metadata": {},
   "outputs": [
    {
     "name": "stdout",
     "output_type": "stream",
     "text": [
      "Size of data_corpus:9777952\n",
      "Data_corpus:['</BOT>The', 'wet', 'marble', 'floor', 'pressed', 'on', 'his', 'cheek', 'like', 'a', 'thousand', 'hands', 'slapping', 'his', 'face', 'frozen', 'in', 'time', '.', 'Smattering', 'piss', 'of', 'rain', 'ignored', 'his', 'indignant', 'mumblings', '.', 'His', 'eyes', 'fluttered', '.', 'Pins', 'and', 'needs', 'ran', 'from', 'finger', 'to', 'shoulder', 'as', 'he', 'pushed', 'back', 'against', 'the', 'floor', ',', 'contorting', 'his', 'aching', 'body', 'into', 'a', 'cross', 'legged', 'position', '.', 'Last', 'night', 'was', 'bad', '.', 'He', 'gathered', 'that', '.', 'His', 'routine', 'dullness', 'of', 'though', 'crept', 'inwards', 'from', 'the', 'edges', 'of', 'his', 'mind', 'toward', 'the', 'black', 'mist', 'that', 'veiled', 'his', 'most', 'recent', 'memories', '.', 'He', 'struggled', 'to', 'recall', 'whatever', 'he', 'could', \"n't\", 'recall']\n"
     ]
    }
   ],
   "source": [
    "# Split the data into word corpus for BPE procesing\n",
    "data_corpus = [word for line in data_list for word in line.split()]\n",
    "print(f\"Size of data_corpus:{len(data_corpus)}\")\n",
    "print(f\"Data_corpus:{data_corpus[:100]}\")"
   ]
  },
  {
   "cell_type": "code",
   "execution_count": 6,
   "metadata": {},
   "outputs": [],
   "source": [
    "# Initialize the vocabulary\n",
    "special_tokens = {\n",
    "    '</BOT>': 0,\n",
    "    '</EOT>': 1\n",
    "}\n",
    "inv_special_tokens = { v:k for k,v in special_tokens.items() }\n",
    "token_map = {}\n",
    "token_map.update(special_tokens)\n",
    "inv_token_map = {}\n",
    "inv_token_map.update(inv_special_tokens)\n",
    "bpe_codes = {}"
   ]
  },
  {
   "cell_type": "code",
   "execution_count": 7,
   "metadata": {},
   "outputs": [],
   "source": [
    "# word splitting and counting\n",
    "vocab = { '</BOT>' : 0, '</EOT>' : 1 }\n",
    "for word in data_corpus:\n",
    "    if word in special_tokens.keys():\n",
    "        continue\n",
    "    chars = list(word) + ['</w>']\n",
    "    word_tuple = tuple(chars)\n",
    "    vocab[word_tuple] = vocab.get(word_tuple, 0) + 1"
   ]
  },
  {
   "cell_type": "code",
   "execution_count": 8,
   "metadata": {},
   "outputs": [],
   "source": [
    "# Collect unique symbols\n",
    "symbols = set()\n",
    "for word_tuple in vocab:\n",
    "    symbols.update(word_tuple)"
   ]
  },
  {
   "cell_type": "code",
   "execution_count": 9,
   "metadata": {},
   "outputs": [
    {
     "name": "stdout",
     "output_type": "stream",
     "text": [
      "{'😂', '̝', '瑞', '́', 'w', '™', '̩', '🤔', 'آ', 'ん', 'ا', '生', 'M', 'ס', '김', 'È', '么', 'è', 'ḑ', 'ă', 'l', 'Ｘ', '|', 'ಠ', '𝘦', '͇', 'ň', '°', 'व', 'K', '5', 'ब', '″', 'R', '+', '»', 'æ', '̍', 'э', 'Ｙ', '§', 'j', '비', 'й', 'ゎ', 's', '은', 'ā', '…', '4', 'Վ', '2', 'भ', '\\\\', 'ß', 'ع', 'ج', '상', '̠', 'צ', 'H', 'ソ', 'ò', 'ԋ', '𝘨', 'ي', '͎', '~', 'ţ', 'W', '«', '‘', 'י', '̾', 'Ä', '★', 'ा', 'ט', '𝘑', 'â', '용', 'u', '−', '⌐', 'ժ', '€', '̨', '´', '͞', 'ء', '͏', 'ن', 'ַ', 'ú', 'g', '̴', '̪', 'Ѯ', '♬', '̋', 'ئ', '野', '$', 'ķ', '₰', 'ô', '͂', 'p', '}', 'ث', 'ه', 'ע', ')', '√', '̹', '⇔', 'Т', '̡', '니', '͛', 'ð', '💯', 'κ', 'Z', '͋', 'ơ', 'ָ', 'Q', 'ּ', '🔥', '☺', 'מ', 'ذ', '̟', 'E', 'þ', 'נ', 'س', '𝘸', 'ワ', '’', '̄', 'ư', 'р', '̓', 'ג', '⬆', 'य', 'ف', 'ｗ', 'i', '͌', 'े', 'आ', 'b', 'п', 'ש', '͖', 'ö', 'Ｍ', 'ｏ', '͢', 'ь', 'J', '̲', 'و', '̀', 'q', 'ε', '@', ',', 'е', '̑', 'ř', 'ļ', 'Ｅ', 'ツ', '𝘣', 'Á', '∴', '屎', 'Ð', '̥', 'Ｏ', '把', '\\xad', 'إ', 'さ', '👌', '₴', '̣', '̆', '͡', '</w>', 'غ', 'd', '岁', '“', 'o', ':', 'ि', 'í', 'ο', 'Î', '毛', 'ờ', 'G', '얼', 'ज', 'Ａ', 'Α', 'ش', '♦', 'm', 'Ｕ', '̫', '𝘶', '̗', 'Ì', 'र', 'б', 'ù', 'н', '>', 'ग', '_', 'т', 'ä', '̬', '̀', 'ఠ', '،', '落', '✨', '̊', 'ê', '万', '^', '©', 'ł', 'ч', 'á', '{', 'ी', 'Ｃ', '̭', '.', '泽', '입', 'к', 'å', '̇', '͘', '̤', '£', 'β', '＂', 'X', '͙', 'Ｖ', '̻', '东', 'ͦ', 'S', 'Ｂ', 'ب', '¾', '◇', '¯', 'أ', 'ы', '先', 'ͅ', '■', 'α', 'Ç', \"'\", 'ク', 'ń', 'ė', '😩', 'ー', ']', '‽', 'ü', 'Ｐ', '훈', 'î', 'ो', '마', 'ץ', '\\uf04a', '̘', 'ē', 'ك', 'ב', '̌', '`', 'ą', 'म', 'º', 'v', '∆', 'Ï', 'ド', '̽', 'ë', 'ś', 'ν', 'г', 'π', '6', ';', 'ᵯ', 'م', 'ύ', '1', 'C', '̙', 'и', 'स', '❦', 'Ｔ', '̐', '͝', '☹', 'ر', '?', '×', 'Þ', 'n', 'P', '͍', '景', '⭐', '†', 'м', '́', '有', 'о', '厦', '的', 'h', 'ح', 'k', 'ͥ', 'с', '͠', '•', 'ͨ', '𝘵', 'Ļ', 'я', '𝘢', 'Ｇ', '角', 't', 'ñ', '*', '𝘰', 'ल', '-', 'ͪ', 'ς', '͐', '7', '̵', '¿', '͜', '\\u200b', 'ͧ', 'א', '̯', 'ى', 'ل', '．', '҉', '♫', 'Β', '💦', '%', 'ת', 'Δ', '《', 'N', 'ן', 'ु', 'Ｒ', 'ו', '½', 'ͮ', '͗', 'Y', '❤', 'め', '》', 'ó', 'ך', '̶', 'ז', 'न', '♪', 'O', '̧', '͈', 'у', 'ͭ', 'ִ', '͕', '什', 'ǫ', 'ت', 'ق', '－', 'à', 'Ｉ', '☆', '\\ufeff', 'ͫ', '͉', 'c', '村', 'Ś', 'ה', '̕', '्', '̚', 'ế', 'Д', 'ͤ', 'ͣ', '<', '”', 'μ', 'ḅ', '¬', 'û', '&', 'क', 'ć', 'z', 'Ｈ', '为', 'د', 'ū', '̒', 'e', 'L', 'D', 'x', 'Ε', 'ם', 'f', 'U', 'प', '新', 'ȩ', 'ō', '郎', 'Ω', 'ة', '¡', '̃', '̉', '͓', 'r', 'ظ', '̸', '̎', 'ͩ', 'Ｌ', 'Ｎ', '8', '\\u200e', 'ד', '®', 'כ', 'Ѫ', '█', '!', '̳', '0', '️', '̔', 'ड', 'I', '\\x7f', '̦', 'ק', '𝘥', '까', 'É', 'Ｆ', '̈́', '̞', '̱', '̖', 'ض', 'ח', 'パ', '͔', '֏', 'Ü', 'Ｄ', 'ל', 'Ԩ', 'ר', 'д', 'À', 'F', 'Æ', '̢', '̰', '/', '̅', 'ж', '„', '̏', 'ø', 'Ó', 'ț', 'Ｓ', 'ლ', 'ì', '̈', 'Г', '❢', '̛', 'Ռ', '̼', '̺', 'Ｗ', 'ę', '͒', '͊', '²', 'ह', 'y', 'V', 'く', 'ǎ', 'Å', '门', 'ã', 'ै', 'л', 'Γ', '=', '–', 'T', '😭', 'a', 'ç', '͆', 'ط', 'ス', '✔', '#', '̓', '÷', '̂', 'а', '(', 'ş', 'خ', 'な', 'в', 'ز', '‚', '3', '9', 'é', 'ͬ', 'פ', 'थ', '[', 'ख', '请', '̷', 'Ò', '͟', '͚', '̿', '𝘯', 'ص', 'σ', '̮', 'B', 'ï', 'A', '—', '̜', '𝘩', '𝘴', 'ं'}\n"
     ]
    }
   ],
   "source": [
    "# Check the symbols\n",
    "# There are many non-english symbols\n",
    "print(symbols)"
   ]
  },
  {
   "cell_type": "code",
   "execution_count": 10,
   "metadata": {},
   "outputs": [
    {
     "name": "stdout",
     "output_type": "stream",
     "text": [
      "<class 'dict'>\n"
     ]
    }
   ],
   "source": [
    "token_id = 2 # 0,1 are reserved for special tokens. \n",
    "print(type(token_map))\n",
    "# If we wanted to do this dynamically we can do token_id = len(special_tokens)\n",
    "for symbol in symbols:\n",
    "    if symbol not in token_map:\n",
    "        token_map[symbol] = token_id\n",
    "        inv_token_map[token_id] = symbol\n",
    "        token_id += 1"
   ]
  },
  {
   "cell_type": "code",
   "execution_count": 11,
   "metadata": {},
   "outputs": [],
   "source": [
    "inv_map = {v: k for k, v in token_map.items()}"
   ]
  },
  {
   "cell_type": "code",
   "execution_count": 12,
   "metadata": {},
   "outputs": [
    {
     "name": "stdout",
     "output_type": "stream",
     "text": [
      "dict_keys(['</BOT>', '</EOT>', '😂', '̝', '瑞', '́', 'w', '™', '̩', '🤔', 'آ', 'ん', 'ا', '生', 'M', 'ס', '김', 'È', '么', 'è', 'ḑ', 'ă', 'l', 'Ｘ', '|', 'ಠ', '𝘦', '͇', 'ň', '°', 'व', 'K', '5', 'ब', '″', 'R', '+', '»', 'æ', '̍', 'э', 'Ｙ', '§', 'j', '비', 'й', 'ゎ', 's', '은', 'ā', '…', '4', 'Վ', '2', 'भ', '\\\\', 'ß', 'ع', 'ج', '상', '̠', 'צ', 'H', 'ソ', 'ò', 'ԋ', '𝘨', 'ي', '͎', '~', 'ţ', 'W', '«', '‘', 'י', '̾', 'Ä', '★', 'ा', 'ט', '𝘑', 'â', '용', 'u', '−', '⌐', 'ժ', '€', '̨', '´', '͞', 'ء', '͏', 'ن', 'ַ', 'ú', 'g', '̴', '̪', 'Ѯ', '♬', '̋', 'ئ', '野', '$', 'ķ', '₰', 'ô', '͂', 'p', '}', 'ث', 'ه', 'ע', ')', '√', '̹', '⇔', 'Т', '̡', '니', '͛', 'ð', '💯', 'κ', 'Z', '͋', 'ơ', 'ָ', 'Q', 'ּ', '🔥', '☺', 'מ', 'ذ', '̟', 'E', 'þ', 'נ', 'س', '𝘸', 'ワ', '’', '̄', 'ư', 'р', '̓', 'ג', '⬆', 'य', 'ف', 'ｗ', 'i', '͌', 'े', 'आ', 'b', 'п', 'ש', '͖', 'ö', 'Ｍ', 'ｏ', '͢', 'ь', 'J', '̲', 'و', '̀', 'q', 'ε', '@', ',', 'е', '̑', 'ř', 'ļ', 'Ｅ', 'ツ', '𝘣', 'Á', '∴', '屎', 'Ð', '̥', 'Ｏ', '把', '\\xad', 'إ', 'さ', '👌', '₴', '̣', '̆', '͡', '</w>', 'غ', 'd', '岁', '“', 'o', ':', 'ि', 'í', 'ο', 'Î', '毛', 'ờ', 'G', '얼', 'ज', 'Ａ', 'Α', 'ش', '♦', 'm', 'Ｕ', '̫', '𝘶', '̗', 'Ì', 'र', 'б', 'ù', 'н', '>', 'ग', '_', 'т', 'ä', '̬', '̀', 'ఠ', '،', '落', '✨', '̊', 'ê', '万', '^', '©', 'ł', 'ч', 'á', '{', 'ी', 'Ｃ', '̭', '.', '泽', '입', 'к', 'å', '̇', '͘', '̤', '£', 'β', '＂', 'X', '͙', 'Ｖ', '̻', '东', 'ͦ', 'S', 'Ｂ', 'ب', '¾', '◇', '¯', 'أ', 'ы', '先', 'ͅ', '■', 'α', 'Ç', \"'\", 'ク', 'ń', 'ė', '😩', 'ー', ']', '‽', 'ü', 'Ｐ', '훈', 'î', 'ो', '마', 'ץ', '\\uf04a', '̘', 'ē', 'ك', 'ב', '̌', '`', 'ą', 'म', 'º', 'v', '∆', 'Ï', 'ド', '̽', 'ë', 'ś', 'ν', 'г', 'π', '6', ';', 'ᵯ', 'م', 'ύ', '1', 'C', '̙', 'и', 'स', '❦', 'Ｔ', '̐', '͝', '☹', 'ر', '?', '×', 'Þ', 'n', 'P', '͍', '景', '⭐', '†', 'м', '́', '有', 'о', '厦', '的', 'h', 'ح', 'k', 'ͥ', 'с', '͠', '•', 'ͨ', '𝘵', 'Ļ', 'я', '𝘢', 'Ｇ', '角', 't', 'ñ', '*', '𝘰', 'ल', '-', 'ͪ', 'ς', '͐', '7', '̵', '¿', '͜', '\\u200b', 'ͧ', 'א', '̯', 'ى', 'ل', '．', '҉', '♫', 'Β', '💦', '%', 'ת', 'Δ', '《', 'N', 'ן', 'ु', 'Ｒ', 'ו', '½', 'ͮ', '͗', 'Y', '❤', 'め', '》', 'ó', 'ך', '̶', 'ז', 'न', '♪', 'O', '̧', '͈', 'у', 'ͭ', 'ִ', '͕', '什', 'ǫ', 'ت', 'ق', '－', 'à', 'Ｉ', '☆', '\\ufeff', 'ͫ', '͉', 'c', '村', 'Ś', 'ה', '̕', '्', '̚', 'ế', 'Д', 'ͤ', 'ͣ', '<', '”', 'μ', 'ḅ', '¬', 'û', '&', 'क', 'ć', 'z', 'Ｈ', '为', 'د', 'ū', '̒', 'e', 'L', 'D', 'x', 'Ε', 'ם', 'f', 'U', 'प', '新', 'ȩ', 'ō', '郎', 'Ω', 'ة', '¡', '̃', '̉', '͓', 'r', 'ظ', '̸', '̎', 'ͩ', 'Ｌ', 'Ｎ', '8', '\\u200e', 'ד', '®', 'כ', 'Ѫ', '█', '!', '̳', '0', '️', '̔', 'ड', 'I', '\\x7f', '̦', 'ק', '𝘥', '까', 'É', 'Ｆ', '̈́', '̞', '̱', '̖', 'ض', 'ח', 'パ', '͔', '֏', 'Ü', 'Ｄ', 'ל', 'Ԩ', 'ר', 'д', 'À', 'F', 'Æ', '̢', '̰', '/', '̅', 'ж', '„', '̏', 'ø', 'Ó', 'ț', 'Ｓ', 'ლ', 'ì', '̈', 'Г', '❢', '̛', 'Ռ', '̼', '̺', 'Ｗ', 'ę', '͒', '͊', '²', 'ह', 'y', 'V', 'く', 'ǎ', 'Å', '门', 'ã', 'ै', 'л', 'Γ', '=', '–', 'T', '😭', 'a', 'ç', '͆', 'ط', 'ス', '✔', '#', '̓', '÷', '̂', 'а', '(', 'ş', 'خ', 'な', 'в', 'ز', '‚', '3', '9', 'é', 'ͬ', 'פ', 'थ', '[', 'ख', '请', '̷', 'Ò', '͟', '͚', '̿', '𝘯', 'ص', 'σ', '̮', 'B', 'ï', 'A', '—', '̜', '𝘩', '𝘴', 'ं'])\n",
      "dict_keys([0, 1, 2, 3, 4, 5, 6, 7, 8, 9, 10, 11, 12, 13, 14, 15, 16, 17, 18, 19, 20, 21, 22, 23, 24, 25, 26, 27, 28, 29, 30, 31, 32, 33, 34, 35, 36, 37, 38, 39, 40, 41, 42, 43, 44, 45, 46, 47, 48, 49, 50, 51, 52, 53, 54, 55, 56, 57, 58, 59, 60, 61, 62, 63, 64, 65, 66, 67, 68, 69, 70, 71, 72, 73, 74, 75, 76, 77, 78, 79, 80, 81, 82, 83, 84, 85, 86, 87, 88, 89, 90, 91, 92, 93, 94, 95, 96, 97, 98, 99, 100, 101, 102, 103, 104, 105, 106, 107, 108, 109, 110, 111, 112, 113, 114, 115, 116, 117, 118, 119, 120, 121, 122, 123, 124, 125, 126, 127, 128, 129, 130, 131, 132, 133, 134, 135, 136, 137, 138, 139, 140, 141, 142, 143, 144, 145, 146, 147, 148, 149, 150, 151, 152, 153, 154, 155, 156, 157, 158, 159, 160, 161, 162, 163, 164, 165, 166, 167, 168, 169, 170, 171, 172, 173, 174, 175, 176, 177, 178, 179, 180, 181, 182, 183, 184, 185, 186, 187, 188, 189, 190, 191, 192, 193, 194, 195, 196, 197, 198, 199, 200, 201, 202, 203, 204, 205, 206, 207, 208, 209, 210, 211, 212, 213, 214, 215, 216, 217, 218, 219, 220, 221, 222, 223, 224, 225, 226, 227, 228, 229, 230, 231, 232, 233, 234, 235, 236, 237, 238, 239, 240, 241, 242, 243, 244, 245, 246, 247, 248, 249, 250, 251, 252, 253, 254, 255, 256, 257, 258, 259, 260, 261, 262, 263, 264, 265, 266, 267, 268, 269, 270, 271, 272, 273, 274, 275, 276, 277, 278, 279, 280, 281, 282, 283, 284, 285, 286, 287, 288, 289, 290, 291, 292, 293, 294, 295, 296, 297, 298, 299, 300, 301, 302, 303, 304, 305, 306, 307, 308, 309, 310, 311, 312, 313, 314, 315, 316, 317, 318, 319, 320, 321, 322, 323, 324, 325, 326, 327, 328, 329, 330, 331, 332, 333, 334, 335, 336, 337, 338, 339, 340, 341, 342, 343, 344, 345, 346, 347, 348, 349, 350, 351, 352, 353, 354, 355, 356, 357, 358, 359, 360, 361, 362, 363, 364, 365, 366, 367, 368, 369, 370, 371, 372, 373, 374, 375, 376, 377, 378, 379, 380, 381, 382, 383, 384, 385, 386, 387, 388, 389, 390, 391, 392, 393, 394, 395, 396, 397, 398, 399, 400, 401, 402, 403, 404, 405, 406, 407, 408, 409, 410, 411, 412, 413, 414, 415, 416, 417, 418, 419, 420, 421, 422, 423, 424, 425, 426, 427, 428, 429, 430, 431, 432, 433, 434, 435, 436, 437, 438, 439, 440, 441, 442, 443, 444, 445, 446, 447, 448, 449, 450, 451, 452, 453, 454, 455, 456, 457, 458, 459, 460, 461, 462, 463, 464, 465, 466, 467, 468, 469, 470, 471, 472, 473, 474, 475, 476, 477, 478, 479, 480, 481, 482, 483, 484, 485, 486, 487, 488, 489, 490, 491, 492, 493, 494, 495, 496, 497, 498, 499, 500, 501, 502, 503, 504, 505, 506, 507, 508, 509, 510, 511, 512, 513, 514, 515, 516, 517, 518, 519, 520, 521, 522, 523, 524, 525, 526, 527, 528, 529, 530, 531, 532, 533, 534, 535, 536, 537, 538, 539, 540, 541, 542, 543, 544, 545, 546, 547, 548, 549, 550, 551, 552, 553, 554, 555, 556, 557, 558, 559, 560, 561, 562, 563, 564, 565, 566, 567, 568, 569, 570, 571, 572, 573, 574, 575, 576, 577, 578, 579, 580, 581, 582, 583, 584, 585, 586, 587, 588, 589, 590, 591, 592, 593, 594, 595, 596])\n"
     ]
    }
   ],
   "source": [
    "print(token_map.keys())\n",
    "print(inv_token_map.keys())"
   ]
  },
  {
   "cell_type": "code",
   "execution_count": 13,
   "metadata": {},
   "outputs": [],
   "source": [
    "# get_pair_counts function\n",
    "def get_pair_counts(vocab: dict[tuple[str], int]) -> dict[tuple[str, str], int]:\n",
    "    \"\"\"\n",
    "    Count the frequency of each pair of symbols in the vocabulary\n",
    "    by iterating over all words in the vocabulary and counting\n",
    "    \"\"\"\n",
    "    pairs = {}\n",
    "    for word, freq in vocab.items():\n",
    "        symbols = word\n",
    "        for i in range(len(symbols)-1): # There's no pair for last symbol\n",
    "            pair = (symbols[i], symbols[i+1])\n",
    "            pairs[pair] = pairs.get(pair, 0) + freq\n",
    "    return pairs"
   ]
  },
  {
   "cell_type": "code",
   "execution_count": null,
   "metadata": {},
   "outputs": [],
   "source": [
    "# merge_vocab function\n",
    "from multiprocessing import Pool\n",
    "def merge_vocab_primitive(pair: tuple[str, str], vocab:dict[tuple[str], int]) -> dict[tuple[str], int]:\n",
    "    \"\"\"\n",
    "    Merge the most frequent pair in the vocabulary\n",
    "    This is primitive version of merge_vocab using single thread\n",
    "    to demonstrate algorithm\n",
    "    \"\"\"\n",
    "    new_vocab = {}\n",
    "    bigram = ''.join(pair) # join two symbols to create a bigram\n",
    "    for word, freq in vocab.items():\n",
    "        w = []\n",
    "        i = 0\n",
    "        while i < len(word)-1: # Reason for wile loop is inconsistent index combing\n",
    "            # Merge pair if found\n",
    "            if i < len(word) - 1 and word[i] == pair[0] and word[i+1] == pair[1]:\n",
    "                w.append(bigram)\n",
    "            else:\n",
    "                w.append(word[i])\n",
    "                i += 1\n",
    "        new_vocab[tuple(w)] = freq\n",
    "    return new_vocab\n",
    "\n",
    "def merge_vocab(pair: tuple[str, str], vocab:dict[tuple[str], int]) -> dict[tuple[str], int]:\n",
    "    \"\"\"\n",
    "    Merge the most frequent pair in the vocabulary\n",
    "    This uses concurrent.futures.ThreadPoolExecutor to parallelize\n",
    "    the merge_vocab_primitive function\n",
    "    \"\"\"\n",
    "    bigram = ''.join(pair)\n",
    "\n",
    "    def process_word(word_freq:tuple):\n",
    "        word, freq = word_freq\n",
    "        w = []\n",
    "        i = 0\n",
    "        while i < len(word)-1:\n",
    "            if i < len(word) - 1 and word[i] == pair[0] and word[i+1] == pair[1]:\n",
    "                w.append(bigram)\n",
    "            else:\n",
    "                w.append(word[i])\n",
    "                i += 1\n",
    "        return tuple(w), freq\n",
    "\n",
    "    with Pool() as pool:\n",
    "        new_vocab = dict(pool.map(process_word, vocab.items()))\n",
    "    \n",
    "    return new_vocab\n",
    "    "
   ]
  },
  {
   "cell_type": "code",
   "execution_count": null,
   "metadata": {},
   "outputs": [
    {
     "name": "stderr",
     "output_type": "stream",
     "text": [
      "  0%|          | 0/1 [00:00<?, ?it/s]"
     ]
    },
    {
     "name": "stdout",
     "output_type": "stream",
     "text": [
      "Best pair:('e', '</w>')\n",
      "BPE Codes:{}\n"
     ]
    }
   ],
   "source": [
    "# # BPE Merges\n",
    "# num_merges = 1\n",
    "# bpe_codes = {}\n",
    "# for i in tqdm(range(num_merges)):\n",
    "#     pairs = get_pair_counts(vocab)\n",
    "#     print(f\"Best pair:{max(pairs, key=pairs.get)}\")\n",
    "#     print(f\"BPE Codes:{bpe_codes}\")\n",
    "#     if not pairs:\n",
    "#         break\n",
    "#     best_pair = max(pairs, key=pairs.get)\n",
    "#     vocab = merge_vocab(best_pair, vocab)\n",
    "#     bpe_codes[best_pair] = i\n",
    "#     new_symbol = ''.join(best_pair)\n",
    "#     if new_symbol not in token_map:\n",
    "#         token_map[new_symbol] = token_id\n",
    "#         inv_token_map[token_id] = new_symbol\n",
    "#         token_id += 1\n",
    "    "
   ]
  }
 ],
 "metadata": {
  "kernelspec": {
   "display_name": "venv",
   "language": "python",
   "name": "python3"
  },
  "language_info": {
   "codemirror_mode": {
    "name": "ipython",
    "version": 3
   },
   "file_extension": ".py",
   "mimetype": "text/x-python",
   "name": "python",
   "nbconvert_exporter": "python",
   "pygments_lexer": "ipython3",
   "version": "3.12.3"
  }
 },
 "nbformat": 4,
 "nbformat_minor": 2
}
