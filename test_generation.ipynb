{
 "cells": [
  {
   "cell_type": "code",
   "execution_count": 1,
   "metadata": {},
   "outputs": [
    {
     "name": "stderr",
     "output_type": "stream",
     "text": [
      "/home/nemit/Projects/mlgroup1/venv/lib/python3.12/site-packages/tqdm/auto.py:21: TqdmWarning: IProgress not found. Please update jupyter and ipywidgets. See https://ipywidgets.readthedocs.io/en/stable/user_install.html\n",
      "  from .autonotebook import tqdm as notebook_tqdm\n"
     ]
    }
   ],
   "source": [
    "import os\n",
    "import torch\n",
    "from src.transformer_torch import *\n",
    "from src.tokenizer import *\n",
    "from src.utils import *"
   ]
  },
  {
   "cell_type": "code",
   "execution_count": 2,
   "metadata": {},
   "outputs": [
    {
     "name": "stderr",
     "output_type": "stream",
     "text": [
      "/tmp/ipykernel_27359/524559339.py:2: FutureWarning: You are using `torch.load` with `weights_only=False` (the current default value), which uses the default pickle module implicitly. It is possible to construct malicious pickle data which will execute arbitrary code during unpickling (See https://github.com/pytorch/pytorch/blob/main/SECURITY.md#untrusted-models for more details). In a future release, the default value for `weights_only` will be flipped to `True`. This limits the functions that could be executed during unpickling. Arbitrary objects will no longer be allowed to be loaded via this mode unless they are explicitly allowlisted by the user via `torch.serialization.add_safe_globals`. We recommend you start setting `weights_only=True` for any use case where you don't have full control of the loaded file. Please open an issue on GitHub for any issues related to this experimental feature.\n",
      "  model = torch.load(model_path)\n"
     ]
    }
   ],
   "source": [
    "model_path = './model/checkpoints/gpt_model_shakesphere.pth'\n",
    "model = torch.load(model_path)"
   ]
  },
  {
   "cell_type": "code",
   "execution_count": 3,
   "metadata": {},
   "outputs": [],
   "source": [
    "tokenizer_path = './model/tokenizer_shakesphere.json'\n",
    "tokenizer = load_tokenizer(tokenizer_path)\n",
    "vocab_size = len(tokenizer.token_map)"
   ]
  },
  {
   "cell_type": "code",
   "execution_count": 4,
   "metadata": {},
   "outputs": [
    {
     "name": "stderr",
     "output_type": "stream",
     "text": [
      "/tmp/ipykernel_27359/2039883398.py:1: FutureWarning: You are using `torch.load` with `weights_only=False` (the current default value), which uses the default pickle module implicitly. It is possible to construct malicious pickle data which will execute arbitrary code during unpickling (See https://github.com/pytorch/pytorch/blob/main/SECURITY.md#untrusted-models for more details). In a future release, the default value for `weights_only` will be flipped to `True`. This limits the functions that could be executed during unpickling. Arbitrary objects will no longer be allowed to be loaded via this mode unless they are explicitly allowlisted by the user via `torch.serialization.add_safe_globals`. We recommend you start setting `weights_only=True` for any use case where you don't have full control of the loaded file. Please open an issue on GitHub for any issues related to this experimental feature.\n",
      "  checkpoint = torch.load(model_path, map_location='cpu')\n"
     ]
    },
    {
     "data": {
      "text/plain": [
       "<All keys matched successfully>"
      ]
     },
     "execution_count": 4,
     "metadata": {},
     "output_type": "execute_result"
    }
   ],
   "source": [
    "checkpoint = torch.load(model_path, map_location='cpu')\n",
    "embedding_dim = checkpoint.get('embedding_dim', 1024)\n",
    "max_seq_len = checkpoint.get('max_seq_len', 1024)\n",
    "heads = checkpoint.get('heads', 8)\n",
    "ff_expand_dim = checkpoint.get('ff_expand_dim', 2)\n",
    "blocks = checkpoint.get('blocks', 2)\n",
    "lr = checkpoint.get('lr', 0.001)\n",
    "\n",
    "model = GPT(vocab_size=vocab_size, \n",
    "            embed_size=embedding_dim, \n",
    "            max_seq_len=max_seq_len, \n",
    "            num_heads=heads, \n",
    "            ff_expand=ff_expand_dim, \n",
    "            num_blocks=blocks, \n",
    "            dropout=0.1)\n",
    "model.load_state_dict(checkpoint['model_state_dict'])"
   ]
  },
  {
   "cell_type": "code",
   "execution_count": null,
   "metadata": {},
   "outputs": [],
   "source": [
    "import torch\n",
    "import torch.nn as nn\n",
    "import torch.nn.functional as F\n",
    "\n",
    "def generate_sequence(model: nn.Module, \n",
    "                      initial_input: torch.Tensor, \n",
    "                      max_length: int, \n",
    "                      tokenizer: BytePairTokenizer,\n",
    "                      stop_on_repeat: bool = True,\n",
    "                      device: str = 'cuda' if torch.cuda.is_available() else 'cpu') -> torch.Tensor:\n",
    "    model.eval()\n",
    "    initial_input = initial_input.to(device)\n",
    "    input_seq = initial_input.unsqueeze(0)  # (1, seq_len)\n",
    "    text = tokenizer.decode(initial_input.tolist())\n",
    "    with torch.no_grad():\n",
    "        for _ in range(max_length - initial_input.size(0)):\n",
    "            seq_len = input_seq.size(1)\n",
    "            attn_mask = generate_causal_mask(seq_len, device=device)\n",
    "            logits = model(input_seq, attn_mask=attn_mask)  # (1, seq_len, vocab_size)\n",
    "            next_token_probs = F.softmax(logits[:, -1, :], dim=-1)  \n",
    "            next_token = torch.argmax(next_token_probs, dim=-1)  # greedy\n",
    "            input_seq = torch.cat([input_seq, next_token.unsqueeze(0)], dim=1)\n",
    "\n",
    "            if input_seq.size(1) > model.max_seq_len:\n",
    "                input_seq = input_seq[:, -model.max_seq_len:]\n",
    "            \n",
    "            text += tokenizer.decode(next_token.tolist())\n",
    "            if stop_on_repeat and check_output_reproduction(text):\n",
    "                break\n",
    "\n",
    "    return input_seq.squeeze(0)\n",
    "\n",
    "def check_output_reproduction(generated_text: str, repeat_threshold: int = 20, repeat_length: int = None) -> bool:\n",
    "    if repeat_length is None:\n",
    "        repeat_length = len(generated_text) // 10\n",
    "    \n",
    "    for i in range(len(generated_text) - repeat_length):\n",
    "        for j in range(5, repeat_length):\n",
    "            if generated_text[i:i+j] == generated_text[i+j:i+2*j]:\n",
    "                if j >= repeat_threshold:\n",
    "                    return True\n",
    "    return False\n",
    "\n",
    "def generate_text(input: str, max_tokens: int = 100, stop_on_repeat: bool = True) -> str:\n",
    "    input_tokens = tokenizer.encode(input)\n",
    "    input_tokens = torch.tensor(input_tokens)\n",
    "    model.eval()\n",
    "    output_tokens = generate_sequence(model, \n",
    "                                      input_tokens, \n",
    "                                      max_tokens, \n",
    "                                      tokenizer=tokenizer,\n",
    "                                      stop_on_repeat=stop_on_repeat,\n",
    "                                      device=torch.get_default_device())\n",
    "    output_string = tokenizer.decode(output_tokens.tolist())\n",
    "    return output_string"
   ]
  },
  {
   "cell_type": "code",
   "execution_count": 6,
   "metadata": {},
   "outputs": [
    {
     "name": "stdout",
     "output_type": "stream",
     "text": [
      "Finished splitting text into words in 9.441375732421875e-05 seconds\n"
     ]
    },
    {
     "name": "stderr",
     "output_type": "stream",
     "text": [
      "100%|██████████| 12/12 [00:00<00:00, 7061.12it/s]"
     ]
    },
    {
     "name": "stdout",
     "output_type": "stream",
     "text": [
      "Finished processing words in 0.16909146308898926 seconds\n",
      "Function encode executed in 0:00:00.169336\n"
     ]
    },
    {
     "name": "stderr",
     "output_type": "stream",
     "text": [
      "\n"
     ]
    },
    {
     "name": "stdout",
     "output_type": "stream",
     "text": [
      "First Citizen:\n",
      "Before we proceed any further, hear me speak.\n",
      "\n",
      "All:\n",
      "Speak, speak.\n",
      "\n",
      "First Citizen:\n",
      "You are all resolved rather to die than to famish?\n",
      "\n",
      "All:\n",
      "Resolved.\n",
      "\n",
      "First Citizen:\n",
      "First, you know Caius Marcius is chief enemy to the people.\n",
      "\n",
      "All:\n",
      "We know't, we know't, we know\n"
     ]
    }
   ],
   "source": [
    "input = \"\"\"First Citizen:\n",
    "Before we proceed any further, hear me speak.\n",
    "\n",
    "All:\n",
    "Speak,\"\"\"\n",
    "output = generate_text(input, max_tokens=1024)\n",
    "print(output)"
   ]
  },
  {
   "cell_type": "code",
   "execution_count": 7,
   "metadata": {},
   "outputs": [],
   "source": [
    "# import matplotlib.pyplot as plt\n",
    "# import random\n",
    "\n",
    "# with open('./data/input.txt', 'r') as f:\n",
    "#     data = f.read()\n",
    "\n",
    "# data_split = data.split('\\n')\n",
    "# print(len(data_split))\n",
    "# max_length = 1024\n",
    "\n",
    "# viable_lengths = []\n",
    "# for i in tqdm(range(1000)):\n",
    "#     rand_start = random.randint(0, len(data_split)-100)\n",
    "#     rand_length = random.randint(3, 7)\n",
    "#     random_input = data_split[rand_start:rand_start+rand_length]\n",
    "#     input_text = '\\n'.join(random_input)\n",
    "#     try:\n",
    "#         random_output = generate_text(input_text, max_tokens=max_length, stop_on_repeat=True)\n",
    "#     except Exception as e:\n",
    "#         print(e)\n",
    "#         viable_lengths.append(0)\n",
    "#     viable_lengths.append(len(tokenizer.encode(random_output)))"
   ]
  },
  {
   "cell_type": "code",
   "execution_count": 8,
   "metadata": {},
   "outputs": [
    {
     "ename": "NameError",
     "evalue": "name 'viable_lengths' is not defined",
     "output_type": "error",
     "traceback": [
      "\u001b[0;31m---------------------------------------------------------------------------\u001b[0m",
      "\u001b[0;31mNameError\u001b[0m                                 Traceback (most recent call last)",
      "Cell \u001b[0;32mIn[8], line 1\u001b[0m\n\u001b[0;32m----> 1\u001b[0m \u001b[38;5;28mprint\u001b[39m(\u001b[43mviable_lengths\u001b[49m)\n",
      "\u001b[0;31mNameError\u001b[0m: name 'viable_lengths' is not defined"
     ]
    }
   ],
   "source": [
    "print(viable_lengths)"
   ]
  },
  {
   "cell_type": "code",
   "execution_count": null,
   "metadata": {},
   "outputs": [
    {
     "data": {
      "image/png": "[encoded data removed]",
      "text/plain": [
       "<Figure size 640x480 with 1 Axes>"
      ]
     },
     "metadata": {},
     "output_type": "display_data"
    },
    {
     "data": {
      "text/plain": [
       "<Figure size 640x480 with 0 Axes>"
      ]
     },
     "metadata": {},
     "output_type": "display_data"
    }
   ],
   "source": [
    "import matplotlib.pyplot as plt\n",
    "plt.hist(viable_lengths, bins=100)\n",
    "plt.show()\n",
    "plt.savefig('output_lengths.png')\n"
   ]
  }
 ],
 "metadata": {
  "kernelspec": {
   "display_name": "venv",
   "language": "python",
   "name": "python3"
  },
  "language_info": {
   "codemirror_mode": {
    "name": "ipython",
    "version": 3
   },
   "file_extension": ".py",
   "mimetype": "text/x-python",
   "name": "python",
   "nbconvert_exporter": "python",
   "pygments_lexer": "ipython3",
   "version": "3.12.3"
  }
 },
 "nbformat": 4,
 "nbformat_minor": 2
}
